{
 "cells": [
  {
   "cell_type": "markdown",
   "id": "2e15ed8a",
   "metadata": {},
   "source": [
    "# Cas Kaggle: Student Grade Prediction\n",
    "\n",
    "# 1. Introducció \n",
    "\n",
    "Durant aquesta pràctica aplicarem tots els coneixements obtinguts a la materia per a un cas pràctic.\n",
    "S'ens dona una base de dades proporcionada per la universitat de Minho, on s'han agafat mostres d'alumnes de dues escoles: Gabriel Pereira i Mousinho da Silveira.\n",
    "\n",
    "Cada mostra conté atributs demogràfics, socials i relacionats amb els estudis. Juntament amb tres atributs que podem predir; G1, G2, G3. Els quals fan referencia a les notes dels periodes 1 i 2. I la nota final que es G3. Com atribut objectiu s'utilitzarà només G3, ja que el seu resultat és la mitja de G1 i G2, i no trobo útil calcular-les.\n",
    "\n",
    "La base de dades no conté moltes mostres, per tant l'objectiu en general no serà aconseguir un model predictor molt bó, sino analitzar la base de dades per a veure quins son els factors més determinants a l'hora d'aconseguir bona o mala nota.\n",
    "\n",
    "# 2. Dependencies\n",
    "\n",
    "Abans de començar amb l'analisi, aquestes son les llibreries principalment utilitzades:\n",
    "\n",
    "- Numpy: Estructurar i operar matrius\n",
    "- Pandas: Per a manipular la BD\n",
    "- Seaborn i Matplotlib: Visualitzar els resultats amb gràfiques i altres mètodes 2D i 3D.\n",
    "- Scikit-learn: Separar la base de dades i entrenar models."
   ]
  },
  {
   "cell_type": "code",
   "execution_count": 1,
   "id": "5121025e",
   "metadata": {},
   "outputs": [],
   "source": [
    "import numpy as np\n",
    "import pandas as pd\n",
    "import seaborn as sns\n",
    "import matplotlib.pyplot as plt\n",
    "from sklearn.linear_model import LogisticRegression\n",
    "from sklearn import svm, datasets\n",
    "from sklearn.model_selection import train_test_split\n",
    "from sklearn.decomposition import PCA\n",
    "from sklearn.metrics import roc_curve, auc, precision_recall_curve, classification_report, accuracy_score, f1_score"
   ]
  },
  {
   "cell_type": "markdown",
   "id": "59ca0b78",
   "metadata": {},
   "source": [
    "# 3. Explorant la base de dades\n",
    "\n",
    "Començem important la base de dades i explorant que podem veure a simple vista. Degut a que l'atribut G1 i G2, formen la suma de l'atribut a predir, i per tant la seva correlació és altísima, l'eliminarem del dataset desde l'inici."
   ]
  },
  {
   "cell_type": "code",
   "execution_count": 2,
   "id": "0e3035cf",
   "metadata": {},
   "outputs": [
    {
     "name": "stdout",
     "output_type": "stream",
     "text": [
      "Dimensionalitat de la BBDD nostre: (395, 31)\n",
      "Dimensionalitat de les entrades X nostre (395, 30)\n",
      "Dimensionalitat de l'atribut Y nostre (395,)\n"
     ]
    }
   ],
   "source": [
    "def load_dataset(path):\n",
    "    dataset = pd.read_csv(path, header=0, delimiter=',')\n",
    "    return dataset\n",
    "\n",
    "df = load_dataset('student-mat.csv')\n",
    "data = df.values\n",
    "\n",
    "l_column = list(df.columns)\n",
    "x = data[:, :30]  # Caracteristiques (x)\n",
    "y = data[:, 32]  # Atribut y --> variable dependent del nostre model\n",
    "\n",
    "df = df.drop(['G1', 'G2'], axis=1)\n",
    "\n",
    "print(\"Dimensionalitat de la BBDD nostre:\", df.shape)\n",
    "print(\"Dimensionalitat de les entrades X nostre\", x.shape)\n",
    "print(\"Dimensionalitat de l'atribut Y nostre\", y.shape)"
   ]
  },
  {
   "cell_type": "markdown",
   "id": "47c4a2ba",
   "metadata": {},
   "source": [
    "Tenim 33 atributs, dels quals utilitzarem 30 per a intentar predir l'atribut G3.\n",
    "Tenim 395 mostres, per tant tenim molt poca varietat de la qual obtenir bones prediccions, i els nostres models agafaran tendencia a fer overfitting."
   ]
  },
  {
   "cell_type": "code",
   "execution_count": 3,
   "id": "9f4e46fd",
   "metadata": {},
   "outputs": [
    {
     "data": {
      "text/html": [
       "<div>\n",
       "<style scoped>\n",
       "    .dataframe tbody tr th:only-of-type {\n",
       "        vertical-align: middle;\n",
       "    }\n",
       "\n",
       "    .dataframe tbody tr th {\n",
       "        vertical-align: top;\n",
       "    }\n",
       "\n",
       "    .dataframe thead th {\n",
       "        text-align: right;\n",
       "    }\n",
       "</style>\n",
       "<table border=\"1\" class=\"dataframe\">\n",
       "  <thead>\n",
       "    <tr style=\"text-align: right;\">\n",
       "      <th></th>\n",
       "      <th>school</th>\n",
       "      <th>sex</th>\n",
       "      <th>age</th>\n",
       "      <th>address</th>\n",
       "      <th>famsize</th>\n",
       "      <th>Pstatus</th>\n",
       "      <th>Medu</th>\n",
       "      <th>Fedu</th>\n",
       "      <th>Mjob</th>\n",
       "      <th>Fjob</th>\n",
       "      <th>...</th>\n",
       "      <th>internet</th>\n",
       "      <th>romantic</th>\n",
       "      <th>famrel</th>\n",
       "      <th>freetime</th>\n",
       "      <th>goout</th>\n",
       "      <th>Dalc</th>\n",
       "      <th>Walc</th>\n",
       "      <th>health</th>\n",
       "      <th>absences</th>\n",
       "      <th>G3</th>\n",
       "    </tr>\n",
       "  </thead>\n",
       "  <tbody>\n",
       "    <tr>\n",
       "      <th>0</th>\n",
       "      <td>GP</td>\n",
       "      <td>F</td>\n",
       "      <td>18</td>\n",
       "      <td>U</td>\n",
       "      <td>GT3</td>\n",
       "      <td>A</td>\n",
       "      <td>4</td>\n",
       "      <td>4</td>\n",
       "      <td>at_home</td>\n",
       "      <td>teacher</td>\n",
       "      <td>...</td>\n",
       "      <td>no</td>\n",
       "      <td>no</td>\n",
       "      <td>4</td>\n",
       "      <td>3</td>\n",
       "      <td>4</td>\n",
       "      <td>1</td>\n",
       "      <td>1</td>\n",
       "      <td>3</td>\n",
       "      <td>6</td>\n",
       "      <td>6</td>\n",
       "    </tr>\n",
       "    <tr>\n",
       "      <th>1</th>\n",
       "      <td>GP</td>\n",
       "      <td>F</td>\n",
       "      <td>17</td>\n",
       "      <td>U</td>\n",
       "      <td>GT3</td>\n",
       "      <td>T</td>\n",
       "      <td>1</td>\n",
       "      <td>1</td>\n",
       "      <td>at_home</td>\n",
       "      <td>other</td>\n",
       "      <td>...</td>\n",
       "      <td>yes</td>\n",
       "      <td>no</td>\n",
       "      <td>5</td>\n",
       "      <td>3</td>\n",
       "      <td>3</td>\n",
       "      <td>1</td>\n",
       "      <td>1</td>\n",
       "      <td>3</td>\n",
       "      <td>4</td>\n",
       "      <td>6</td>\n",
       "    </tr>\n",
       "    <tr>\n",
       "      <th>2</th>\n",
       "      <td>GP</td>\n",
       "      <td>F</td>\n",
       "      <td>15</td>\n",
       "      <td>U</td>\n",
       "      <td>LE3</td>\n",
       "      <td>T</td>\n",
       "      <td>1</td>\n",
       "      <td>1</td>\n",
       "      <td>at_home</td>\n",
       "      <td>other</td>\n",
       "      <td>...</td>\n",
       "      <td>yes</td>\n",
       "      <td>no</td>\n",
       "      <td>4</td>\n",
       "      <td>3</td>\n",
       "      <td>2</td>\n",
       "      <td>2</td>\n",
       "      <td>3</td>\n",
       "      <td>3</td>\n",
       "      <td>10</td>\n",
       "      <td>10</td>\n",
       "    </tr>\n",
       "    <tr>\n",
       "      <th>3</th>\n",
       "      <td>GP</td>\n",
       "      <td>F</td>\n",
       "      <td>15</td>\n",
       "      <td>U</td>\n",
       "      <td>GT3</td>\n",
       "      <td>T</td>\n",
       "      <td>4</td>\n",
       "      <td>2</td>\n",
       "      <td>health</td>\n",
       "      <td>services</td>\n",
       "      <td>...</td>\n",
       "      <td>yes</td>\n",
       "      <td>yes</td>\n",
       "      <td>3</td>\n",
       "      <td>2</td>\n",
       "      <td>2</td>\n",
       "      <td>1</td>\n",
       "      <td>1</td>\n",
       "      <td>5</td>\n",
       "      <td>2</td>\n",
       "      <td>15</td>\n",
       "    </tr>\n",
       "    <tr>\n",
       "      <th>4</th>\n",
       "      <td>GP</td>\n",
       "      <td>F</td>\n",
       "      <td>16</td>\n",
       "      <td>U</td>\n",
       "      <td>GT3</td>\n",
       "      <td>T</td>\n",
       "      <td>3</td>\n",
       "      <td>3</td>\n",
       "      <td>other</td>\n",
       "      <td>other</td>\n",
       "      <td>...</td>\n",
       "      <td>no</td>\n",
       "      <td>no</td>\n",
       "      <td>4</td>\n",
       "      <td>3</td>\n",
       "      <td>2</td>\n",
       "      <td>1</td>\n",
       "      <td>2</td>\n",
       "      <td>5</td>\n",
       "      <td>4</td>\n",
       "      <td>10</td>\n",
       "    </tr>\n",
       "    <tr>\n",
       "      <th>...</th>\n",
       "      <td>...</td>\n",
       "      <td>...</td>\n",
       "      <td>...</td>\n",
       "      <td>...</td>\n",
       "      <td>...</td>\n",
       "      <td>...</td>\n",
       "      <td>...</td>\n",
       "      <td>...</td>\n",
       "      <td>...</td>\n",
       "      <td>...</td>\n",
       "      <td>...</td>\n",
       "      <td>...</td>\n",
       "      <td>...</td>\n",
       "      <td>...</td>\n",
       "      <td>...</td>\n",
       "      <td>...</td>\n",
       "      <td>...</td>\n",
       "      <td>...</td>\n",
       "      <td>...</td>\n",
       "      <td>...</td>\n",
       "      <td>...</td>\n",
       "    </tr>\n",
       "    <tr>\n",
       "      <th>390</th>\n",
       "      <td>MS</td>\n",
       "      <td>M</td>\n",
       "      <td>20</td>\n",
       "      <td>U</td>\n",
       "      <td>LE3</td>\n",
       "      <td>A</td>\n",
       "      <td>2</td>\n",
       "      <td>2</td>\n",
       "      <td>services</td>\n",
       "      <td>services</td>\n",
       "      <td>...</td>\n",
       "      <td>no</td>\n",
       "      <td>no</td>\n",
       "      <td>5</td>\n",
       "      <td>5</td>\n",
       "      <td>4</td>\n",
       "      <td>4</td>\n",
       "      <td>5</td>\n",
       "      <td>4</td>\n",
       "      <td>11</td>\n",
       "      <td>9</td>\n",
       "    </tr>\n",
       "    <tr>\n",
       "      <th>391</th>\n",
       "      <td>MS</td>\n",
       "      <td>M</td>\n",
       "      <td>17</td>\n",
       "      <td>U</td>\n",
       "      <td>LE3</td>\n",
       "      <td>T</td>\n",
       "      <td>3</td>\n",
       "      <td>1</td>\n",
       "      <td>services</td>\n",
       "      <td>services</td>\n",
       "      <td>...</td>\n",
       "      <td>yes</td>\n",
       "      <td>no</td>\n",
       "      <td>2</td>\n",
       "      <td>4</td>\n",
       "      <td>5</td>\n",
       "      <td>3</td>\n",
       "      <td>4</td>\n",
       "      <td>2</td>\n",
       "      <td>3</td>\n",
       "      <td>16</td>\n",
       "    </tr>\n",
       "    <tr>\n",
       "      <th>392</th>\n",
       "      <td>MS</td>\n",
       "      <td>M</td>\n",
       "      <td>21</td>\n",
       "      <td>R</td>\n",
       "      <td>GT3</td>\n",
       "      <td>T</td>\n",
       "      <td>1</td>\n",
       "      <td>1</td>\n",
       "      <td>other</td>\n",
       "      <td>other</td>\n",
       "      <td>...</td>\n",
       "      <td>no</td>\n",
       "      <td>no</td>\n",
       "      <td>5</td>\n",
       "      <td>5</td>\n",
       "      <td>3</td>\n",
       "      <td>3</td>\n",
       "      <td>3</td>\n",
       "      <td>3</td>\n",
       "      <td>3</td>\n",
       "      <td>7</td>\n",
       "    </tr>\n",
       "    <tr>\n",
       "      <th>393</th>\n",
       "      <td>MS</td>\n",
       "      <td>M</td>\n",
       "      <td>18</td>\n",
       "      <td>R</td>\n",
       "      <td>LE3</td>\n",
       "      <td>T</td>\n",
       "      <td>3</td>\n",
       "      <td>2</td>\n",
       "      <td>services</td>\n",
       "      <td>other</td>\n",
       "      <td>...</td>\n",
       "      <td>yes</td>\n",
       "      <td>no</td>\n",
       "      <td>4</td>\n",
       "      <td>4</td>\n",
       "      <td>1</td>\n",
       "      <td>3</td>\n",
       "      <td>4</td>\n",
       "      <td>5</td>\n",
       "      <td>0</td>\n",
       "      <td>10</td>\n",
       "    </tr>\n",
       "    <tr>\n",
       "      <th>394</th>\n",
       "      <td>MS</td>\n",
       "      <td>M</td>\n",
       "      <td>19</td>\n",
       "      <td>U</td>\n",
       "      <td>LE3</td>\n",
       "      <td>T</td>\n",
       "      <td>1</td>\n",
       "      <td>1</td>\n",
       "      <td>other</td>\n",
       "      <td>at_home</td>\n",
       "      <td>...</td>\n",
       "      <td>yes</td>\n",
       "      <td>no</td>\n",
       "      <td>3</td>\n",
       "      <td>2</td>\n",
       "      <td>3</td>\n",
       "      <td>3</td>\n",
       "      <td>3</td>\n",
       "      <td>5</td>\n",
       "      <td>5</td>\n",
       "      <td>9</td>\n",
       "    </tr>\n",
       "  </tbody>\n",
       "</table>\n",
       "<p>395 rows × 31 columns</p>\n",
       "</div>"
      ],
      "text/plain": [
       "    school sex  age address famsize Pstatus  Medu  Fedu      Mjob      Fjob  \\\n",
       "0       GP   F   18       U     GT3       A     4     4   at_home   teacher   \n",
       "1       GP   F   17       U     GT3       T     1     1   at_home     other   \n",
       "2       GP   F   15       U     LE3       T     1     1   at_home     other   \n",
       "3       GP   F   15       U     GT3       T     4     2    health  services   \n",
       "4       GP   F   16       U     GT3       T     3     3     other     other   \n",
       "..     ...  ..  ...     ...     ...     ...   ...   ...       ...       ...   \n",
       "390     MS   M   20       U     LE3       A     2     2  services  services   \n",
       "391     MS   M   17       U     LE3       T     3     1  services  services   \n",
       "392     MS   M   21       R     GT3       T     1     1     other     other   \n",
       "393     MS   M   18       R     LE3       T     3     2  services     other   \n",
       "394     MS   M   19       U     LE3       T     1     1     other   at_home   \n",
       "\n",
       "     ... internet romantic  famrel  freetime  goout Dalc Walc health absences  \\\n",
       "0    ...       no       no       4         3      4    1    1      3        6   \n",
       "1    ...      yes       no       5         3      3    1    1      3        4   \n",
       "2    ...      yes       no       4         3      2    2    3      3       10   \n",
       "3    ...      yes      yes       3         2      2    1    1      5        2   \n",
       "4    ...       no       no       4         3      2    1    2      5        4   \n",
       "..   ...      ...      ...     ...       ...    ...  ...  ...    ...      ...   \n",
       "390  ...       no       no       5         5      4    4    5      4       11   \n",
       "391  ...      yes       no       2         4      5    3    4      2        3   \n",
       "392  ...       no       no       5         5      3    3    3      3        3   \n",
       "393  ...      yes       no       4         4      1    3    4      5        0   \n",
       "394  ...      yes       no       3         2      3    3    3      5        5   \n",
       "\n",
       "     G3  \n",
       "0     6  \n",
       "1     6  \n",
       "2    10  \n",
       "3    15  \n",
       "4    10  \n",
       "..   ..  \n",
       "390   9  \n",
       "391  16  \n",
       "392   7  \n",
       "393  10  \n",
       "394   9  \n",
       "\n",
       "[395 rows x 31 columns]"
      ]
     },
     "execution_count": 3,
     "metadata": {},
     "output_type": "execute_result"
    }
   ],
   "source": [
    "df"
   ]
  },
  {
   "cell_type": "markdown",
   "id": "957bcc6c",
   "metadata": {},
   "source": [
    "## Els nostres atributs contenen la següent informació:\n",
    "\n",
    "1. school - escola de l'estudiant (binary: 'GP' - Gabriel Pereira or 'MS' - Mousinho da Silveira)\n",
    "2. sex - genere de l'estudiant (binary: 'F' - female or 'M' - male)\n",
    "3. age - edat de l'estudiant (numeric: from 15 to 22)\n",
    "4. address - tipus d'urbanització (binary: 'U' - urban or 'R' - rural)\n",
    "5. famsize - tamany de la familia (binary: 'LE3' - less or equal to 3 or 'GT3' - greater than 3)\n",
    "6. Pstatus - Estat civil dels pares (binary: 'T' - living together or 'A' - apart)\n",
    "7. Medu - Educació de la mare (numeric: 0 - none, 1 - primary education (4th grade), 2 (5th to 9th grade), 3 (secondary education) or 4 (higher education)\n",
    "8. Fedu - Educació del pare (numeric: 0 - none, 1 - primary education (4th grade), 2 (5th to 9th grade), 3 (secondary education) or 4 (higher education)\n",
    "9. Mjob - Treball de la mare (nominal: 'teacher', 'health' care related, civil 'services' (e.g. administrative or police), 'at_home' or 'other')\n",
    "10. Fjob - Treball del pare (nominal: 'teacher', 'health' care related, civil 'services' (e.g. administrative or police), 'at_home' or 'other')\n",
    "11. reason - Raó per a escollir l'escola (nominal: close to 'home', school 'reputation', 'course' preference or 'other')\n",
    "12. guardian - Tutor principal (nominal: 'mother', 'father' or 'other')\n",
    "13. traveltime - Temps de trajecte (numeric: 1 - <15 min., 2 - 15 to 30 min., 3 - 30 min. to 1 hour, or 4 - >1 hour)\n",
    "14. studytime - Temps invertit estudiant (numeric: 1 - <2 hours, 2 - 2 to 5 hours, 3 - 5 to 10 hours, or 4 - >10 hours)\n",
    "15. failures - Número d'assignatures suspeses altres anys (numeric: n if 1<=n<3, else 4)\n",
    "16. schoolsup - Suport educacional extra (binary: yes or no)\n",
    "17. famsup - Suport educacional familiar (binary: yes or no)\n",
    "18. paid - Clases extra pagades (Math or Portuguese) (binary: yes or no)\n",
    "19. activities - Activitats extracurriculars (binary: yes or no)\n",
    "20. nursery - Va assistir a l'escola de bressols (binary: yes or no)\n",
    "21. higher - Vol estudiar uns estudis més avançats (binary: yes or no)\n",
    "22. internet - Accés a internet a casa (binary: yes or no)\n",
    "23. romantic - En una relació romàntica (binary: yes or no)\n",
    "24. famrel - Qualitat de la relació familiar (numeric: from 1 - very bad to 5 - excellent)\n",
    "25. freetime - Temps lliure (numeric: from 1 - very low to 5 - very high)\n",
    "26. goout - Temps sortint amb els amics (numeric: from 1 - very low to 5 - very high)\n",
    "27. Dalc - Consumició d'alcohol durant els dies hàbils (numeric: from 1 - very low to 5 - very high)\n",
    "28. Walc - Consumició d'alcohol durant el fi de setmana (numeric: from 1 - very low to 5 - very high)\n",
    "29. health - Estat de salut (numeric: from 1 - very bad to 5 - very good)\n",
    "30. absences - Quantitat d'absencies a classe (numeric: from 0 to 93)\n",
    "\n",
    "Comprobem que les nostres dades contenen els valors correctament, i comprovem si tenim algun NULL:"
   ]
  },
  {
   "cell_type": "code",
   "execution_count": 4,
   "id": "ddc1e24f",
   "metadata": {},
   "outputs": [
    {
     "name": "stdout",
     "output_type": "stream",
     "text": [
      "school \n",
      "NaNs: 0\n",
      "Values: ['GP' 'MS']\n",
      "sex \n",
      "NaNs: 0\n",
      "Values: ['F' 'M']\n",
      "age \n",
      "NaNs: 0\n",
      "Mean_std: 16.696 1.276\n",
      "address \n",
      "NaNs: 0\n",
      "Values: ['U' 'R']\n",
      "famsize \n",
      "NaNs: 0\n",
      "Values: ['GT3' 'LE3']\n",
      "Pstatus \n",
      "NaNs: 0\n",
      "Values: ['A' 'T']\n",
      "Medu \n",
      "NaNs: 0\n",
      "Mean_std: 2.749 1.095\n",
      "Fedu \n",
      "NaNs: 0\n",
      "Mean_std: 2.522 1.088\n",
      "Mjob \n",
      "NaNs: 0\n",
      "Values: ['at_home' 'health' 'other' 'services' 'teacher']\n",
      "Fjob \n",
      "NaNs: 0\n",
      "Values: ['teacher' 'other' 'services' 'health' 'at_home']\n",
      "reason \n",
      "NaNs: 0\n",
      "Values: ['course' 'other' 'home' 'reputation']\n",
      "guardian \n",
      "NaNs: 0\n",
      "Values: ['mother' 'father' 'other']\n",
      "traveltime \n",
      "NaNs: 0\n",
      "Mean_std: 1.448 0.698\n",
      "studytime \n",
      "NaNs: 0\n",
      "Mean_std: 2.035 0.839\n",
      "failures \n",
      "NaNs: 0\n",
      "Mean_std: 0.334 0.744\n",
      "schoolsup \n",
      "NaNs: 0\n",
      "Values: ['yes' 'no']\n",
      "famsup \n",
      "NaNs: 0\n",
      "Values: ['no' 'yes']\n",
      "paid \n",
      "NaNs: 0\n",
      "Values: ['no' 'yes']\n",
      "activities \n",
      "NaNs: 0\n",
      "Values: ['no' 'yes']\n",
      "nursery \n",
      "NaNs: 0\n",
      "Values: ['yes' 'no']\n",
      "higher \n",
      "NaNs: 0\n",
      "Values: ['yes' 'no']\n",
      "internet \n",
      "NaNs: 0\n",
      "Values: ['no' 'yes']\n",
      "romantic \n",
      "NaNs: 0\n",
      "Values: ['no' 'yes']\n",
      "famrel \n",
      "NaNs: 0\n",
      "Mean_std: 3.944 0.897\n",
      "freetime \n",
      "NaNs: 0\n",
      "Mean_std: 3.235 0.999\n",
      "goout \n",
      "NaNs: 0\n",
      "Mean_std: 3.109 1.113\n",
      "Dalc \n",
      "NaNs: 0\n",
      "Mean_std: 1.481 0.891\n",
      "Walc \n",
      "NaNs: 0\n",
      "Mean_std: 2.291 1.288\n",
      "health \n",
      "NaNs: 0\n",
      "Mean_std: 3.554 1.390\n",
      "absences \n",
      "NaNs: 0\n",
      "Mean_std: 5.709 8.003\n",
      "G3 \n",
      "NaNs: 0\n",
      "Mean_std: 10.415 4.581\n"
     ]
    }
   ],
   "source": [
    "for i in df.columns:\n",
    "        if df[i].dtype == 'object':\n",
    "            print(f\"{i} \\nNaNs: {df[i].isna().sum()}\\nValues: {df[i].unique()}\", )\n",
    "        else:\n",
    "            print(f\"{i} \\nNaNs: {df[i].isna().sum()}\\nMean_std: {df[i].mean():.3f} {df[i].std():.3f}\", )"
   ]
  },
  {
   "cell_type": "markdown",
   "id": "242a6259",
   "metadata": {},
   "source": [
    "No tenim NULLs i tampoc cap valor diferent dels esperats. Per terminar de preparar les dades, pasarem els atributs categorics i binaris a numerics, per a poder utilitzar-los correctament."
   ]
  },
  {
   "cell_type": "code",
   "execution_count": 5,
   "id": "9eba01f4",
   "metadata": {},
   "outputs": [],
   "source": [
    "# Columna 'school', Values = 'GP','MS'\n",
    "df['school'] = df['school'].replace('GP', 1)\n",
    "df['school'] = df['school'].replace('MS', 0)\n",
    "\n",
    "# Columna 'sex', Values = 'F','M'\n",
    "df['sex'] = df['sex'].replace('F', 1)\n",
    "df['sex'] = df['sex'].replace('M', 0)\n",
    "\n",
    "# Columna 'address', Values = 'U','R'\n",
    "df['address'] = df['address'].replace('U', 1)\n",
    "df['address'] = df['address'].replace('R', 0)\n",
    "\n",
    "# Columna 'famsize', Values = 'GT3','LE3'\n",
    "df['famsize'] = df['famsize'].replace('GT3', 1)\n",
    "df['famsize'] = df['famsize'].replace('LE3', 0)\n",
    "\n",
    "# Columna 'Pstatus', Values = 'A','T'\n",
    "df['Pstatus'] = df['Pstatus'].replace('A', 1)\n",
    "df['Pstatus'] = df['Pstatus'].replace('T', 0)\n",
    "\n",
    "# Columna 'Mjob', Values = 'at_home','health', 'other', 'services', 'teacher'\n",
    "df['Mjob'] = df['Mjob'].replace('at_home', 0)\n",
    "df['Mjob'] = df['Mjob'].replace('health', 1)\n",
    "df['Mjob'] = df['Mjob'].replace('other', 2)\n",
    "df['Mjob'] = df['Mjob'].replace('services', 3)\n",
    "df['Mjob'] = df['Mjob'].replace('teacher', 4)\n",
    "\n",
    "# Columna 'Fjob', Values = 'at_home','health', 'other', 'services', 'teacher'\n",
    "df['Fjob'] = df['Fjob'].replace('at_home', 0)\n",
    "df['Fjob'] = df['Fjob'].replace('health', 1)\n",
    "df['Fjob'] = df['Fjob'].replace('other', 2)\n",
    "df['Fjob'] = df['Fjob'].replace('services', 3)\n",
    "df['Fjob'] = df['Fjob'].replace('teacher', 4)\n",
    "\n",
    "# Columna 'reason', Values = 'course', 'other', 'home', 'reputation'\n",
    "df['reason'] = df['reason'].replace('course', 0)\n",
    "df['reason'] = df['reason'].replace('other', 1)\n",
    "df['reason'] = df['reason'].replace('home', 2)\n",
    "df['reason'] = df['reason'].replace('reputation', 3)\n",
    "\n",
    "# Columna 'guardian', Values = 'mother', 'father', 'other'\n",
    "df['guardian'] = df['guardian'].replace('mother', 0)\n",
    "df['guardian'] = df['guardian'].replace('father', 1)\n",
    "df['guardian'] = df['guardian'].replace('other', 2)\n",
    "\n",
    "# Columna 'schoolsup', Values = 'no', 'yes'\n",
    "df['schoolsup'] = df['schoolsup'].replace('no', 0)\n",
    "df['schoolsup'] = df['schoolsup'].replace('yes', 1)\n",
    "\n",
    "# Columna 'famsup', Values = 'no', 'yes'\n",
    "df['famsup'] = df['famsup'].replace('no', 0)\n",
    "df['famsup'] = df['famsup'].replace('yes', 1)\n",
    "\n",
    "# Columna 'paid', Values = 'no', 'yes'\n",
    "df['paid'] = df['paid'].replace('no', 0)\n",
    "df['paid'] = df['paid'].replace('yes', 1)\n",
    "\n",
    "# Columna 'activities', Values = 'no', 'yes'\n",
    "df['activities'] = df['activities'].replace('no', 0)\n",
    "df['activities'] = df['activities'].replace('yes', 1)\n",
    "\n",
    "# Columna 'nursery', Values = 'no', 'yes'\n",
    "df['nursery'] = df['nursery'].replace('no', 0)\n",
    "df['nursery'] = df['nursery'].replace('yes', 1)\n",
    "\n",
    "# Columna 'higher', Values = 'no', 'yes'\n",
    "df['higher'] = df['higher'].replace('no', 0)\n",
    "df['higher'] = df['higher'].replace('yes', 1)\n",
    "\n",
    "# Columna 'internet', Values = 'no', 'yes'\n",
    "df['internet'] = df['internet'].replace('no', 0)\n",
    "df['internet'] = df['internet'].replace('yes', 1)\n",
    "\n",
    "# Columna 'romantic', Values = 'no', 'yes'\n",
    "df['romantic'] = df['romantic'].replace('no', 0)\n",
    "df['romantic'] = df['romantic'].replace('yes', 1)\n",
    "\n",
    "df = df.apply(pd.to_numeric) # Passem totes les variables a numeric, per si algun valor s'ha guardat en string\n"
   ]
  },
  {
   "cell_type": "markdown",
   "id": "39af4f56",
   "metadata": {},
   "source": [
    "# 4. Analitzant la base de dades\n",
    "\n",
    "Mirem la correlació entre els atributs d'entrada per entendre millor les dades"
   ]
  },
  {
   "cell_type": "code",
   "execution_count": 7,
   "id": "b9eb3f0a",
   "metadata": {},
   "outputs": [
    {
     "data": {
      "text/plain": [
       "<BarContainer object of 30 artists>"
      ]
     },
     "execution_count": 7,
     "metadata": {},
     "output_type": "execute_result"
    },
    {
     "data": {
      "image/png": "[encoded data removed]",
      "text/plain": [
       "<Figure size 432x288 with 1 Axes>"
      ]
     },
     "metadata": {
      "needs_background": "light"
     },
     "output_type": "display_data"
    }
   ],
   "source": [
    "correlacio = df.corr()['G3']\n",
    "\n",
    "plt.figure()\n",
    "\n",
    "# apliquem el valor absolut, per diferenciarles millor\n",
    "# ax = sns.heatmap(abs(correlacio), annot=True, linewidths=.5)\n",
    "plt.bar(np.arange(30), abs(correlacio[:-1]))"
   ]
  },
  {
   "cell_type": "code",
   "execution_count": 8,
   "id": "48160ff4",
   "metadata": {},
   "outputs": [
    {
     "data": {
      "text/plain": [
       "school        0.045017\n",
       "sex           0.103456\n",
       "age           0.161579\n",
       "address       0.105756\n",
       "famsize       0.081407\n",
       "Pstatus       0.058009\n",
       "Medu          0.217147\n",
       "Fedu          0.152457\n",
       "Mjob          0.102082\n",
       "Fjob          0.042286\n",
       "reason        0.099773\n",
       "guardian      0.054193\n",
       "traveltime    0.117142\n",
       "studytime     0.097820\n",
       "failures      0.360415\n",
       "schoolsup     0.082788\n",
       "famsup        0.039157\n",
       "paid          0.101996\n",
       "activities    0.016100\n",
       "nursery       0.051568\n",
       "higher        0.182465\n",
       "internet      0.098483\n",
       "romantic      0.129970\n",
       "famrel        0.051363\n",
       "freetime      0.011307\n",
       "goout         0.132791\n",
       "Dalc          0.054660\n",
       "Walc          0.051939\n",
       "health        0.061335\n",
       "absences      0.034247\n",
       "Name: G3, dtype: float64"
      ]
     },
     "execution_count": 8,
     "metadata": {},
     "output_type": "execute_result"
    }
   ],
   "source": [
    "abs(correlacio[:-1])"
   ]
  },
  {
   "cell_type": "markdown",
   "id": "99d324a8",
   "metadata": {},
   "source": [
    "Amb la correlació amb l'atribut G3, podem separar temporalment els atributs en tres grups:\n",
    "- Baixa correlació (x < 0.07): school, Pstatus, Fjob, guardian, famsup, activities, nursery, famrel, freetime, Dalc, Walc, health, absences.\n",
    "- Correlació mitjana(0.07 < x < 0.15): sex, address, famsize, Mjob, reason, traveltime, studytime, schoolsup, paid, internet, romantic, goout.\n",
    "- Alta correlació (x > 0.15): age, Medu, Fedu, failures, higher.\n",
    "\n",
    "Aquestes correlacions no son una guia definitiva, ja que depenent del model que utilitzem, alguns atributs poden no tenir correlació directa amb l'atribut G3, però la combinació entre un atribut i altre si que pot tenir una alta correlació amb G3. Utilitzarem aquesta separació per a poder investigar que és el que passa a cada atribut i si realment tenen correlació amb l'atribut a predir.\n",
    "\n",
    "Observem gràficament la relació entre els atributs d'entrada i l'atribut a predir del grup d'alta correlació:"
   ]
  },
  {
   "cell_type": "code",
   "execution_count": 11,
   "id": "16f482c1",
   "metadata": {},
   "outputs": [
    {
     "data": {
      "text/plain": [
       "<AxesSubplot:xlabel='age', ylabel='G3'>"
      ]
     },
     "execution_count": 11,
     "metadata": {},
     "output_type": "execute_result"
    },
    {
     "data": {
      "image/png": "[encoded data removed]",
      "text/plain": [
       "<Figure size 432x288 with 1 Axes>"
      ]
     },
     "metadata": {
      "needs_background": "light"
     },
     "output_type": "display_data"
    }
   ],
   "source": [
    "sns.barplot(data=df, x=\"age\", y=\"G3\")"
   ]
  },
  {
   "cell_type": "code",
   "execution_count": 12,
   "id": "adb030d3",
   "metadata": {},
   "outputs": [
    {
     "data": {
      "text/plain": [
       "<AxesSubplot:xlabel='Medu', ylabel='G3'>"
      ]
     },
     "execution_count": 12,
     "metadata": {},
     "output_type": "execute_result"
    },
    {
     "data": {
      "image/png": "[encoded data removed]",
      "text/plain": [
       "<Figure size 432x288 with 1 Axes>"
      ]
     },
     "metadata": {
      "needs_background": "light"
     },
     "output_type": "display_data"
    }
   ],
   "source": [
    "sns.barplot(data=df, x=\"Medu\", y=\"G3\")"
   ]
  },
  {
   "cell_type": "code",
   "execution_count": 13,
   "id": "daac5be2",
   "metadata": {},
   "outputs": [
    {
     "data": {
      "text/plain": [
       "<AxesSubplot:xlabel='Fedu', ylabel='G3'>"
      ]
     },
     "execution_count": 13,
     "metadata": {},
     "output_type": "execute_result"
    },
    {
     "data": {
      "image/png": "[encoded data removed]",
      "text/plain": [
       "<Figure size 432x288 with 1 Axes>"
      ]
     },
     "metadata": {
      "needs_background": "light"
     },
     "output_type": "display_data"
    }
   ],
   "source": [
    "sns.barplot(data=df, x=\"Fedu\", y=\"G3\")"
   ]
  },
  {
   "cell_type": "code",
   "execution_count": 14,
   "id": "70359f70",
   "metadata": {},
   "outputs": [
    {
     "data": {
      "text/plain": [
       "<AxesSubplot:xlabel='failures', ylabel='G3'>"
      ]
     },
     "execution_count": 14,
     "metadata": {},
     "output_type": "execute_result"
    },
    {
     "data": {
      "image/png": "[encoded data removed]",
      "text/plain": [
       "<Figure size 432x288 with 1 Axes>"
      ]
     },
     "metadata": {
      "needs_background": "light"
     },
     "output_type": "display_data"
    }
   ],
   "source": [
    "sns.barplot(data=df, x=\"failures\", y=\"G3\")"
   ]
  },
  {
   "cell_type": "code",
   "execution_count": 15,
   "id": "4248b44f",
   "metadata": {},
   "outputs": [
    {
     "data": {
      "text/plain": [
       "<AxesSubplot:xlabel='higher', ylabel='G3'>"
      ]
     },
     "execution_count": 15,
     "metadata": {},
     "output_type": "execute_result"
    },
    {
     "data": {
      "image/png": "[encoded data removed]",
      "text/plain": [
       "<Figure size 432x288 with 1 Axes>"
      ]
     },
     "metadata": {
      "needs_background": "light"
     },
     "output_type": "display_data"
    }
   ],
   "source": [
    "sns.barplot(data=df, x=\"higher\", y=\"G3\")"
   ]
  },
  {
   "cell_type": "markdown",
   "id": "304080c7",
   "metadata": {},
   "source": [
    "Podem observar com el grup d'alta correlació té coherencia, ja que la mitjana de les notes puja quan els estudiants volen cursar estudis superiors (higher = 1), quantes menys assignatures ha suspés previament (failures). També podem veure casos inesperats, com que si té algun dels pares sense educació (Fedu or Medu = 0) la seva mitjana es més alta, i després la resta de valors, la mitjana agafa una tendencia a pujar a mesura que l'educació dels pares augmenta. Una possible resposta a això pot ser que els pares sense educació imposen més importancia als estudis als seus fills. Amb l'edat trobem un cas diferent, la mitjana va baixant amb l'edat excepte als 20, el qual té uns valors molt més alts.\n",
    "\n",
    "Per a comprobar si les dades son correctes, compararem la quantitat de mostres d'aquests valors per a veure si es tracta d'una desviació degut a la poca informació que tenim a la BD."
   ]
  },
  {
   "cell_type": "code",
   "execution_count": 25,
   "id": "10cdb82c",
   "metadata": {},
   "outputs": [
    {
     "name": "stdout",
     "output_type": "stream",
     "text": [
      "Tenim: 3 mostres amb Medu=0 de 395 mostres\n",
      "Tenim: 2 mostres amb Fedu=0 de 395 mostres\n",
      "Tenim: 3 mostres amb age=20 de 395 mostres\n"
     ]
    }
   ],
   "source": [
    "print('Tenim: ' + str((df.Medu == 0).sum()) + ' mostres amb Medu=0 de 395 mostres')\n",
    "print('Tenim: ' + str((df.Fedu == 0).sum()) + ' mostres amb Fedu=0 de 395 mostres')\n",
    "print('Tenim: ' + str((df.age == 20).sum()) + ' mostres amb age=20 de 395 mostres')"
   ]
  },
  {
   "cell_type": "markdown",
   "id": "487b4c07",
   "metadata": {},
   "source": [
    "Com podem veure, aquests valors extranys es deuen a la poca quantitat de mostres que tenim. Com es tracta de 2-3 mostres per columna, la millor opció és eliminar aquests outliers de la nostra BD"
   ]
  },
  {
   "cell_type": "code",
   "execution_count": 26,
   "id": "4a26bcc9",
   "metadata": {},
   "outputs": [
    {
     "name": "stdout",
     "output_type": "stream",
     "text": [
      "Dimensionalitat de la BBDD abans: (395, 31)\n",
      "Dimensionalitat de la BBDD després: (387, 31)\n"
     ]
    }
   ],
   "source": [
    "print(\"Dimensionalitat de la BBDD abans:\", df.shape)\n",
    "df.drop(df[df['Medu'] == 0].index, inplace = True)\n",
    "df.drop(df[df['Fedu'] == 0].index, inplace = True)\n",
    "df.drop(df[df['age'] == 20].index, inplace = True)\n",
    "print(\"Dimensionalitat de la BBDD després:\", df.shape)"
   ]
  },
  {
   "cell_type": "markdown",
   "id": "83d57b0e",
   "metadata": {},
   "source": [
    "Degut a la poca quantitat de mostres, no eliminarem els outliers de columnes amb menys correlació, ja que segurament no tinguin molt impacte i poden perjudicar a la quantitat d'informació dels atributs amb molta correlació. Igualment, mirarem la relació per si podem trobar un cas en especific, o per entendre millor les dades.\n",
    "\n",
    "Grup de mitjana correlació:"
   ]
  },
  {
   "cell_type": "code",
   "execution_count": 27,
   "id": "99da400a",
   "metadata": {},
   "outputs": [
    {
     "data": {
      "text/plain": [
       "<AxesSubplot:xlabel='sex', ylabel='G3'>"
      ]
     },
     "execution_count": 27,
     "metadata": {},
     "output_type": "execute_result"
    },
    {
     "data": {
      "image/png": "[encoded data removed]",
      "text/plain": [
       "<Figure size 432x288 with 1 Axes>"
      ]
     },
     "metadata": {
      "needs_background": "light"
     },
     "output_type": "display_data"
    }
   ],
   "source": [
    "sns.barplot(data=df, x=\"sex\", y=\"G3\")"
   ]
  },
  {
   "cell_type": "code",
   "execution_count": 28,
   "id": "f3ba038c",
   "metadata": {},
   "outputs": [
    {
     "data": {
      "text/plain": [
       "<AxesSubplot:xlabel='address', ylabel='G3'>"
      ]
     },
     "execution_count": 28,
     "metadata": {},
     "output_type": "execute_result"
    },
    {
     "data": {
      "image/png": "[encoded data removed]",
      "text/plain": [
       "<Figure size 432x288 with 1 Axes>"
      ]
     },
     "metadata": {
      "needs_background": "light"
     },
     "output_type": "display_data"
    }
   ],
   "source": [
    "sns.barplot(data=df, x=\"address\", y=\"G3\")"
   ]
  },
  {
   "cell_type": "code",
   "execution_count": 29,
   "id": "eff368b5",
   "metadata": {},
   "outputs": [
    {
     "data": {
      "text/plain": [
       "<AxesSubplot:xlabel='famsize', ylabel='G3'>"
      ]
     },
     "execution_count": 29,
     "metadata": {},
     "output_type": "execute_result"
    },
    {
     "data": {
      "image/png": "[encoded data removed]",
      "text/plain": [
       "<Figure size 432x288 with 1 Axes>"
      ]
     },
     "metadata": {
      "needs_background": "light"
     },
     "output_type": "display_data"
    }
   ],
   "source": [
    "sns.barplot(data=df, x=\"famsize\", y=\"G3\")"
   ]
  },
  {
   "cell_type": "code",
   "execution_count": 30,
   "id": "77e0b892",
   "metadata": {},
   "outputs": [
    {
     "data": {
      "text/plain": [
       "<AxesSubplot:xlabel='Mjob', ylabel='G3'>"
      ]
     },
     "execution_count": 30,
     "metadata": {},
     "output_type": "execute_result"
    },
    {
     "data": {
      "image/png": "[encoded data removed]",
      "text/plain": [
       "<Figure size 432x288 with 1 Axes>"
      ]
     },
     "metadata": {
      "needs_background": "light"
     },
     "output_type": "display_data"
    }
   ],
   "source": [
    "sns.barplot(data=df, x=\"Mjob\", y=\"G3\")"
   ]
  },
  {
   "cell_type": "code",
   "execution_count": 31,
   "id": "b251dbe2",
   "metadata": {},
   "outputs": [
    {
     "data": {
      "text/plain": [
       "<AxesSubplot:xlabel='reason', ylabel='G3'>"
      ]
     },
     "execution_count": 31,
     "metadata": {},
     "output_type": "execute_result"
    },
    {
     "data": {
      "image/png": "[encoded data removed]",
      "text/plain": [
       "<Figure size 432x288 with 1 Axes>"
      ]
     },
     "metadata": {
      "needs_background": "light"
     },
     "output_type": "display_data"
    }
   ],
   "source": [
    "sns.barplot(data=df, x=\"reason\", y=\"G3\")"
   ]
  },
  {
   "cell_type": "code",
   "execution_count": 32,
   "id": "1658ca31",
   "metadata": {},
   "outputs": [
    {
     "data": {
      "text/plain": [
       "<AxesSubplot:xlabel='traveltime', ylabel='G3'>"
      ]
     },
     "execution_count": 32,
     "metadata": {},
     "output_type": "execute_result"
    },
    {
     "data": {
      "image/png": "[encoded data removed]",
      "text/plain": [
       "<Figure size 432x288 with 1 Axes>"
      ]
     },
     "metadata": {
      "needs_background": "light"
     },
     "output_type": "display_data"
    }
   ],
   "source": [
    "sns.barplot(data=df, x=\"traveltime\", y=\"G3\")"
   ]
  },
  {
   "cell_type": "code",
   "execution_count": 33,
   "id": "4aeaf36f",
   "metadata": {},
   "outputs": [
    {
     "data": {
      "text/plain": [
       "<AxesSubplot:xlabel='studytime', ylabel='G3'>"
      ]
     },
     "execution_count": 33,
     "metadata": {},
     "output_type": "execute_result"
    },
    {
     "data": {
      "image/png": "[encoded data removed]",
      "text/plain": [
       "<Figure size 432x288 with 1 Axes>"
      ]
     },
     "metadata": {
      "needs_background": "light"
     },
     "output_type": "display_data"
    }
   ],
   "source": [
    "sns.barplot(data=df, x=\"studytime\", y=\"G3\")"
   ]
  },
  {
   "cell_type": "code",
   "execution_count": 34,
   "id": "26b6f4f5",
   "metadata": {},
   "outputs": [
    {
     "data": {
      "text/plain": [
       "<AxesSubplot:xlabel='schoolsup', ylabel='G3'>"
      ]
     },
     "execution_count": 34,
     "metadata": {},
     "output_type": "execute_result"
    },
    {
     "data": {
      "image/png": "[encoded data removed]",
      "text/plain": [
       "<Figure size 432x288 with 1 Axes>"
      ]
     },
     "metadata": {
      "needs_background": "light"
     },
     "output_type": "display_data"
    }
   ],
   "source": [
    "sns.barplot(data=df, x=\"schoolsup\", y=\"G3\")"
   ]
  },
  {
   "cell_type": "code",
   "execution_count": 35,
   "id": "46681877",
   "metadata": {},
   "outputs": [
    {
     "data": {
      "text/plain": [
       "<AxesSubplot:xlabel='paid', ylabel='G3'>"
      ]
     },
     "execution_count": 35,
     "metadata": {},
     "output_type": "execute_result"
    },
    {
     "data": {
      "image/png": "[encoded data removed]",
      "text/plain": [
       "<Figure size 432x288 with 1 Axes>"
      ]
     },
     "metadata": {
      "needs_background": "light"
     },
     "output_type": "display_data"
    }
   ],
   "source": [
    "sns.barplot(data=df, x=\"paid\", y=\"G3\")"
   ]
  },
  {
   "cell_type": "code",
   "execution_count": 36,
   "id": "653bb033",
   "metadata": {},
   "outputs": [
    {
     "data": {
      "text/plain": [
       "<AxesSubplot:xlabel='internet', ylabel='G3'>"
      ]
     },
     "execution_count": 36,
     "metadata": {},
     "output_type": "execute_result"
    },
    {
     "data": {
      "image/png": "[encoded data removed]",
      "text/plain": [
       "<Figure size 432x288 with 1 Axes>"
      ]
     },
     "metadata": {
      "needs_background": "light"
     },
     "output_type": "display_data"
    }
   ],
   "source": [
    "sns.barplot(data=df, x=\"internet\", y=\"G3\")"
   ]
  },
  {
   "cell_type": "code",
   "execution_count": 37,
   "id": "78497f09",
   "metadata": {},
   "outputs": [
    {
     "data": {
      "text/plain": [
       "<AxesSubplot:xlabel='romantic', ylabel='G3'>"
      ]
     },
     "execution_count": 37,
     "metadata": {},
     "output_type": "execute_result"
    },
    {
     "data": {
      "image/png": "[encoded data removed]",
      "text/plain": [
       "<Figure size 432x288 with 1 Axes>"
      ]
     },
     "metadata": {
      "needs_background": "light"
     },
     "output_type": "display_data"
    }
   ],
   "source": [
    "sns.barplot(data=df, x=\"romantic\", y=\"G3\")"
   ]
  },
  {
   "cell_type": "code",
   "execution_count": 38,
   "id": "c48a657f",
   "metadata": {},
   "outputs": [
    {
     "data": {
      "text/plain": [
       "<AxesSubplot:xlabel='goout', ylabel='G3'>"
      ]
     },
     "execution_count": 38,
     "metadata": {},
     "output_type": "execute_result"
    },
    {
     "data": {
      "image/png": "[encoded data removed]",
      "text/plain": [
       "<Figure size 432x288 with 1 Axes>"
      ]
     },
     "metadata": {
      "needs_background": "light"
     },
     "output_type": "display_data"
    }
   ],
   "source": [
    "sns.barplot(data=df, x=\"goout\", y=\"G3\")"
   ]
  },
  {
   "cell_type": "markdown",
   "id": "4eff6069",
   "metadata": {},
   "source": [
    "sex, address, famsize, Mjob, reason, traveltime, studytime, schoolsup, paid, internet, romantic, goout."
   ]
  }
 ],
 "metadata": {
  "kernelspec": {
   "display_name": "Python 3 (ipykernel)",
   "language": "python",
   "name": "python3"
  },
  "language_info": {
   "codemirror_mode": {
    "name": "ipython",
    "version": 3
   },
   "file_extension": ".py",
   "mimetype": "text/x-python",
   "name": "python",
   "nbconvert_exporter": "python",
   "pygments_lexer": "ipython3",
   "version": "3.9.7"
  }
 },
 "nbformat": 4,
 "nbformat_minor": 5
}
